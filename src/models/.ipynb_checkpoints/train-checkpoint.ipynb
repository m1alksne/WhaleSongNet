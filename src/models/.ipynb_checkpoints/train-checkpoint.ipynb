{
 "cells": [
  {
   "cell_type": "code",
   "execution_count": null,
   "id": "b7349e23-0cf5-46f7-9d31-d446b1004693",
   "metadata": {},
   "outputs": [],
   "source": [
    "\"\"\"\n",
    "Created on Mon Apr 29 16:15:46 2024\n",
    "\n",
    "@author: Michaela ALksne\n",
    "\n",
    "Script to train a resnet-18 CNN to classify A and B calls in 30 second spectrograms\n",
    "sets model and spectrogram parameters and connects to wandB so user can monitor training progress\n",
    "\n",
    "Model parameters: \n",
    "    - multi-target model: 3 labels per sample\n",
    "    - classification with ResampleLoss function\n",
    "    - weights pretrained on ImageNet\n",
    "    - learning rate = 0.001\n",
    "    - cooling factor = 0.3 (decreases learning rate by multiplying 0.001*3 every ten epochs)\n",
    "    - epochs = 12 \n",
    "    - batch_size = 12\n",
    "\n",
    "Spectrogram parameters:\n",
    "    - 30 second windows\n",
    "    - 3200 Hz(samples/second) sampling rate \n",
    "    - 3200 point-FFT which results in 1 Hz bins\n",
    "    - 90 % overlap (or 1400 samples), resulting in 100 ms bins\n",
    "    - 1600 Hamming window samples. A Hamming window is used to smooth the signal and reduce spectral leakage/artifacts for the FFT. \n",
    "    - minimum frequency: 10 Hz\n",
    "    - maximum frequency: 150 Hz\n",
    "    \n",
    "Spectrogram augmentations: \n",
    "    - frequency_mask: adds random horizontal bars over image\n",
    "    - time_mask: adds random vertical bars over the image\n",
    "    - add_noise: adds random Gaussian noise to image \n",
    "    \n",
    "Notes for user:\n",
    "batch_size – number of training files to load/process before re-calculating the loss function and backpropagation\n",
    "num_workers – parallelization (ie, cores or cpus)\n",
    "log_interval – interval in epochs to evaluate model with validation dataset and print metrics to the log\n",
    "\n",
    "\"\"\""
   ]
  },
  {
   "cell_type": "code",
   "execution_count": null,
   "id": "d190f873-1b95-4588-964b-782789eef8dc",
   "metadata": {},
   "outputs": [],
   "source": [
    "import opensoundscape\n",
    "import glob\n",
    "import os\n",
    "import pandas as pd\n",
    "import numpy as np\n",
    "import sklearn\n",
    "import librosa\n",
    "import torch\n",
    "import wandb\n",
    "import random"
   ]
  },
  {
   "cell_type": "code",
   "execution_count": null,
   "id": "956b857e-5a56-483f-a39b-659209b46c5f",
   "metadata": {},
   "outputs": [],
   "source": [
    " # read in train and validation dataframes\n",
    "train_clips = pd.read_csv('../../data/processed/train.csv', index_col=[0,1,2]) \n",
    "val_clips = pd.read_csv('../../data/processed/validation.csv', index_col=[0,1,2]) \n",
    "print(train_clips.sum()) \n",
    "print(val_clips.sum())"
   ]
  },
  {
   "cell_type": "code",
   "execution_count": null,
   "id": "3fd9b86b-ebbd-463a-a531-12ffacdecc02",
   "metadata": {},
   "outputs": [],
   "source": [
    "# modify relative filepaths \n",
    "\n"
   ]
  }
 ],
 "metadata": {
  "kernelspec": {
   "display_name": "Python 3 (Spyder)",
   "language": "python3",
   "name": "python3"
  },
  "language_info": {
   "codemirror_mode": {
    "name": "ipython",
    "version": 3
   },
   "file_extension": ".py",
   "mimetype": "text/x-python",
   "name": "python",
   "nbconvert_exporter": "python",
   "pygments_lexer": "ipython3",
   "version": "3.9.18"
  }
 },
 "nbformat": 4,
 "nbformat_minor": 5
}
