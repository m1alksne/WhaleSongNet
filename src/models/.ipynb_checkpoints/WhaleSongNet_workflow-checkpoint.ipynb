{
 "cells": [
  {
   "cell_type": "code",
   "execution_count": null,
   "id": "b92128a0-b77c-4081-abd8-35ec0b8ebcba",
   "metadata": {},
   "outputs": [],
   "source": []
  }
 ],
 "metadata": {
  "kernelspec": {
   "display_name": "Python 3 (Spyder)",
   "language": "python3",
   "name": "python3"
  },
  "language_info": {
   "name": ""
  }
 },
 "nbformat": 4,
 "nbformat_minor": 5
}
