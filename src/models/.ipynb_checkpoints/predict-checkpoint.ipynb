{
 "cells": [
  {
   "cell_type": "code",
   "execution_count": null,
   "id": "3ba13bf5-d02e-4cd8-bcce-46bdf00264bd",
   "metadata": {},
   "outputs": [],
   "source": []
  }
 ],
 "metadata": {
  "kernelspec": {
   "display_name": "Python 3 (Spyder)",
   "language": "python3",
   "name": "python3"
  },
  "language_info": {
   "name": ""
  }
 },
 "nbformat": 4,
 "nbformat_minor": 5
}
